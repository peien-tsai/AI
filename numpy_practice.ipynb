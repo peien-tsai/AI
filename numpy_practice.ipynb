{
 "cells": [
  {
   "cell_type": "markdown",
   "metadata": {},
   "source": [
    "# Numpy"
   ]
  },
  {
   "cell_type": "markdown",
   "metadata": {},
   "source": [
    "# 參考資料:\n",
    "https://numpy.org/devdocs/user/quickstart.html →英文的\n",
    "    \n",
    "https://www.numpy.org.cn/  →中文的"
   ]
  },
  {
   "cell_type": "code",
   "execution_count": 7,
   "metadata": {},
   "outputs": [
    {
     "name": "stdout",
     "output_type": "stream",
     "text": [
      "[1 2 3]\n",
      "1\n",
      "(3,)\n",
      "3\n",
      "int32\n",
      "[[1 2 3]\n",
      " [4 5 6]]\n",
      "2\n",
      "(2, 3)\n",
      "6\n",
      "int32\n",
      "[[[1 2]\n",
      "  [3 4]]\n",
      "\n",
      " [[5 6]\n",
      "  [7 8]]]\n",
      "3\n",
      "(2, 2, 2)\n",
      "8\n",
      "int32\n"
     ]
    }
   ],
   "source": [
    "#建立陣列\n",
    "import numpy as np\n",
    "\n",
    "a = np.array([1,2,3])\n",
    "print(a) \n",
    "print(a.ndim)  #軸(axis)數量\n",
    "print(a.shape) #陣列的維度(n,m)\n",
    "print(a.size)  #n*m\n",
    "print(a.dtype) #array物件的元素類型\n",
    "\n",
    "b = np.array([[1,2,3],[4,5,6]])\n",
    "print(b)\n",
    "print(b.ndim)\n",
    "print(b.shape)\n",
    "print(b.size)\n",
    "print(b.dtype)\n",
    "\n",
    "c = np.array([[[1,2],[3,4]],[[5,6],[7,8]]])\n",
    "print(c)\n",
    "print(c.ndim)\n",
    "print(c.shape)\n",
    "print(c.size)\n",
    "print(c.dtype)"
   ]
  },
  {
   "cell_type": "code",
   "execution_count": 16,
   "metadata": {},
   "outputs": [
    {
     "name": "stdout",
     "output_type": "stream",
     "text": [
      "[1 2 3 4]\n",
      "int32\n",
      "[1 2 3 4]\n",
      "int64\n",
      "[1. 2. 3. 4.]\n",
      "float64\n",
      "[1.+0.j 2.+0.j 3.+0.j 4.+0.j]\n",
      "complex128\n",
      "[1. 2. 3. 4.]\n",
      "float64\n"
     ]
    },
    {
     "name": "stderr",
     "output_type": "stream",
     "text": [
      "d:\\anaconda3\\envs\\anaconda_project\\lib\\site-packages\\ipykernel_launcher.py:15: ComplexWarning: Casting complex values to real discards the imaginary part\n",
      "  from ipykernel import kernelapp as app\n"
     ]
    }
   ],
   "source": [
    "#指定陣列的資料型態\n",
    "import numpy as np\n",
    "a = np.array([1,2,3,4])\n",
    "print(a)\n",
    "print(a.dtype)\n",
    "a = np.array([1,2,3,4],np.int64) #改成int64\n",
    "print(a)\n",
    "print(a.dtype)\n",
    "a = np.array([1,2,3,4],dtype=float) #改成float64\n",
    "print(a)\n",
    "print(a.dtype)\n",
    "a = np.array([1,2,3,4],dtype=complex) #改成complex複數\n",
    "print(a.dtype)\n",
    "b = np.array(a,dtype=float,copy=True) #複製a陣列\n",
    "print(b)\n",
    "print(b.dtype)"
   ]
  },
  {
   "cell_type": "code",
   "execution_count": 21,
   "metadata": {},
   "outputs": [
    {
     "name": "stdout",
     "output_type": "stream",
     "text": [
      "float16\n",
      "[(b'Amy', 156, 50.) (b'Bob', 175, 72.)]\n",
      "[b'Amy' b'Bob']\n",
      "[156 175]\n",
      "[50. 72.]\n"
     ]
    }
   ],
   "source": [
    "#自訂結構型態\n",
    "import numpy as np\n",
    "#int8,int16,int32,int64 可用'i1','i2','i4','i8' 代替\n",
    "#float16,float32,float64 可用'f1','f2','f4' 代替\n",
    "\n",
    "dt = np.dtype('f2')\n",
    "print(dt)\n",
    "\n",
    "people = np.dtype([('name','S20'),('height','i4'),('weight','f2')])\n",
    "\n",
    "a = np.array([('Amy',156,50),('Bob',175,72)],dtype=people)\n",
    "print(a)\n",
    "print(a['name']) #b' ' byte string 字節字面常數\n",
    "print(a['height'])\n",
    "print(a['weight'])"
   ]
  },
  {
   "cell_type": "code",
   "execution_count": 27,
   "metadata": {},
   "outputs": [
    {
     "name": "stdout",
     "output_type": "stream",
     "text": [
      "[[ 1  2  3  4]\n",
      " [ 5  6  7  8]\n",
      " [ 9 10 11 12]]\n",
      "\n",
      "\n",
      "[[[ 1  2]\n",
      "  [ 3  4]]\n",
      "\n",
      " [[ 5  6]\n",
      "  [ 7  8]]\n",
      "\n",
      " [[ 9 10]\n",
      "  [11 12]]]\n",
      "\n",
      "\n",
      "[[ 1  4  7 10]\n",
      " [ 2  5  8 11]\n",
      " [ 3  6  9 12]]\n"
     ]
    }
   ],
   "source": [
    "#變換陣列的形狀排列與維度\n",
    "import numpy as np\n",
    "a = np.array([1,2,3,4,5,6,7,8,9,10,11,12])\n",
    "\n",
    "a_2d = a.reshape(3,4) #變成3*4\n",
    "print(a_2d)\n",
    "print('\\n')\n",
    "a_3d = a.reshape(3,2,2)\n",
    "print(a_3d)\n",
    "print('\\n')\n",
    "a_2d_col = a.reshape(3,4,order ='F') #陣列在記憶體的排序 C(按列) F(按行) A(原順序) K(元素在記憶體出現的順序)\n",
    "print(a_2d_col)"
   ]
  },
  {
   "cell_type": "code",
   "execution_count": 28,
   "metadata": {},
   "outputs": [
    {
     "name": "stdout",
     "output_type": "stream",
     "text": [
      "[ 0  1  2  3  4  5  6  7  8  9 10 11]\n",
      "[[ 0  1  2]\n",
      " [ 3  4  5]\n",
      " [ 6  7  8]\n",
      " [ 9 10 11]]\n"
     ]
    }
   ],
   "source": [
    "#從數值範圍建立陣列 numpy.arange(start,stop,step,dtype)\n",
    "import numpy as np\n",
    "a = np.array([1,2,3,4,5,6,7,8,9,10,11,12])\n",
    "\n",
    "a = np.arange(12)\n",
    "print(a)\n",
    "\n",
    "a = np.arange(12).reshape(4,3)\n",
    "print(a)"
   ]
  },
  {
   "cell_type": "code",
   "execution_count": 29,
   "metadata": {},
   "outputs": [
    {
     "name": "stdout",
     "output_type": "stream",
     "text": [
      "[10. 12. 14. 16. 18.]\n",
      "[[0.   0.25 0.5 ]\n",
      " [0.75 1.   1.25]\n",
      " [1.5  1.75 2.  ]]\n",
      "[[  1   2   4   8  16]\n",
      " [ 32  64 128 256 512]]\n"
     ]
    }
   ],
   "source": [
    "#等差數列與等比數列 \n",
    "#np.linspace(start,stop,num=50,endpoint=True,retstep=False)\n",
    "#np.logspace(start,stop,num=50,endpoint=True,base=10.0)\n",
    "\n",
    "import numpy as np\n",
    "a = np.linspace(10,20,5,endpoint=False)\n",
    "print(a)\n",
    "\n",
    "b = np.linspace(0,2,9).reshape(3,3)\n",
    "print(b)\n",
    "\n",
    "c = np.logspace(0,9,10,base=2,dtype='i4').reshape(2,5) #基底2的次方,在0-9產出十個型態為'i4',2*5的陣列\n",
    "print(c)"
   ]
  },
  {
   "cell_type": "code",
   "execution_count": 35,
   "metadata": {},
   "outputs": [
    {
     "name": "stdout",
     "output_type": "stream",
     "text": [
      "[[0. 0. 0.]\n",
      " [0. 0. 0.]]\n",
      "[[1. 1. 1.]\n",
      " [1. 1. 1.]]\n",
      "[[0 0 0]\n",
      " [0 0 0]]\n",
      "[[1 1 1]\n",
      " [1 1 1]]\n",
      "[[0.11299291 0.58672572 0.02259892]\n",
      " [0.6456136  0.99273752 0.11405951]]\n",
      "[[4.9e-324 9.9e-324]\n",
      " [1.5e-323 2.0e-323]]\n",
      "[[1 1 1]\n",
      " [1 1 1]]\n",
      "[[1 0 0]\n",
      " [0 1 0]\n",
      " [0 0 1]]\n",
      "[[0. 1. 0.]\n",
      " [0. 0. 1.]\n",
      " [0. 0. 0.]]\n"
     ]
    }
   ],
   "source": [
    "#陣列填值\n",
    "import numpy as np\n",
    "a = np.zeros([2,3])  #2*3填入0的矩陣\n",
    "print(a)\n",
    "\n",
    "b = np.ones([2,3])   #2*3填入1的矩陣\n",
    "print(b)\n",
    "\n",
    "c = np.array([[1,2,3],[4,5,6]])\n",
    "c0 = np.zeros_like(c)  #像c一樣，填入0的矩陣\n",
    "print(c0)\n",
    "c1 = np.ones_like(c)\n",
    "print(c1)\n",
    "\n",
    "d =np.random.random((2,3)) #第一個random 隨機產生陣列內的機率值\n",
    "print(d)\n",
    "\n",
    "e = np.empty([2,2]) #創建一個指定形狀（shape） (2,2)、數據類型（dtype）且未初始化的數組\n",
    "print(e)\n",
    "\n",
    "e1 = np.empty_like(c)\n",
    "print(e1)\n",
    "\n",
    "f = np.eye(3,dtype=int)\n",
    "print(f)\n",
    "f1 = np.eye(3,k=1) #偏移+1向右,-1向左\n",
    "print(f1)"
   ]
  },
  {
   "cell_type": "code",
   "execution_count": 37,
   "metadata": {},
   "outputs": [
    {
     "name": "stdout",
     "output_type": "stream",
     "text": [
      "[2 3 4]\n",
      "[0 2 4]\n",
      "\n",
      "[[11 12 13]\n",
      " [23 24 25]\n",
      " [34 35 36]]\n",
      "\n",
      "[23 24 25]\n",
      "[[23 24 25]\n",
      " [34 35 36]]\n",
      "[24 25]\n",
      "\n",
      "[12 24 35]\n",
      "[23 24 25]\n",
      "[[12 13]\n",
      " [24 25]\n",
      " [35 36]]\n"
     ]
    }
   ],
   "source": [
    "#陣列切片\n",
    "import numpy as np\n",
    "a = np.arange(6) #一維陣列\n",
    "print(a[2:-1])\n",
    "print(a[::2]) #2是間距\n",
    "print('')\n",
    "\n",
    "a = np.array([[11,12,13],[23,24,25],[34,35,36]]) #二維陣列\n",
    "print(a)\n",
    "print('')\n",
    "\n",
    "print(a[1]) #index=1\n",
    "print(a[1:])\n",
    "print(a[1][1:])\n",
    "print('')\n",
    "\n",
    "print(a[...,1])#...代表省略\n",
    "print(a[1,...])\n",
    "print(a[...,1:])"
   ]
  },
  {
   "cell_type": "code",
   "execution_count": 40,
   "metadata": {},
   "outputs": [
    {
     "name": "stdout",
     "output_type": "stream",
     "text": [
      "[[ 0  1  2  3  4  5]\n",
      " [ 6  7  8  9 10 11]\n",
      " [12 13 14 15 16 17]\n",
      " [18 19 20 21 22 23]\n",
      " [24 25 26 27 28 29]\n",
      " [30 31 32 33 34 35]]\n",
      "29\n",
      "29\n",
      "\n",
      "[19 20 21]\n",
      "\n",
      "[[ 3  4  5]\n",
      " [ 9 10 11]\n",
      " [15 16 17]]\n",
      "\n",
      "[12 13 14 15 16 17]\n",
      "\n",
      "[ 3  9 15 21 27 33]\n",
      "\n",
      "[[ 0  2  4]\n",
      " [ 6  8 10]\n",
      " [12 14 16]\n",
      " [18 20 22]\n",
      " [24 26 28]\n",
      " [30 32 34]]\n",
      "\n",
      "[[ 0  3]\n",
      " [12 15]\n",
      " [24 27]]\n"
     ]
    }
   ],
   "source": [
    "#多維陣列的索引\n",
    "#Numpy 二維陣列的索引\n",
    "import numpy as np\n",
    "a = np.arange(0,36).reshape(6,6)\n",
    "print(a)\n",
    "\n",
    "print(a[4,5])\n",
    "print(a[4,-1])\n",
    "print('')\n",
    "\n",
    "print(a[3,1:4])\n",
    "print('')\n",
    "\n",
    "print(a[:3,3:])\n",
    "print('')\n",
    "\n",
    "print(a[2,:])\n",
    "print('')\n",
    "\n",
    "print(a[:,3]) #全部的列,index=3 ,理論上是行向量，但Numpy輸出是列向量\n",
    "print('')\n",
    "\n",
    "print(a[:,::2]) #全部的列,index以2的級距\n",
    "print('')\n",
    "\n",
    "print(a[::2,::3]) #列以2的級距,行以3的級距"
   ]
  },
  {
   "cell_type": "code",
   "execution_count": 41,
   "metadata": {},
   "outputs": [
    {
     "name": "stdout",
     "output_type": "stream",
     "text": [
      "[[[ 0  1  2  3]\n",
      "  [ 4  5  6  7]]\n",
      "\n",
      " [[ 8  9 10 11]\n",
      "  [12 13 14 15]]]\n",
      "\n",
      "[[0 1 2 3]\n",
      " [4 5 6 7]]\n",
      "\n",
      "[[1 2]\n",
      " [5 6]]\n",
      "\n",
      "[4 5 6 7]\n",
      "\n",
      "[4 5 6 7]\n",
      "\n",
      "6\n",
      "\n",
      "6\n",
      "\n"
     ]
    }
   ],
   "source": [
    "#Numpy 三維陣列的索引\n",
    "import numpy as np\n",
    "a = np.arange(16).reshape(2,2,4)\n",
    "print(a)\n",
    "print('')\n",
    "\n",
    "print(a[0])\n",
    "print('')\n",
    "\n",
    "print(a[0,:,1:3])\n",
    "print('')\n",
    "\n",
    "print(a[0,1]) #陣列的索引\n",
    "print('')\n",
    "\n",
    "print(a[0][1])#切片擷取\n",
    "print('')\n",
    "\n",
    "print(a[0,1,2]) #陣列索引\n",
    "print('')\n",
    "\n",
    "print(a[0][1][2]) #切片擷取\n",
    "print('')"
   ]
  },
  {
   "cell_type": "code",
   "execution_count": 42,
   "metadata": {},
   "outputs": [
    {
     "name": "stdout",
     "output_type": "stream",
     "text": [
      "[[ 0  1  2  3  4]\n",
      " [ 5  6  7  8  9]\n",
      " [10 11 12 13 14]\n",
      " [15 16 17 18 19]\n",
      " [20 21 22 23 24]]\n",
      "\n",
      "[ 0  6 10]\n",
      "\n",
      "[[10 11 12 13 14]\n",
      " [20 21 22 23 24]]\n",
      "\n",
      "[21 22 23 24]\n",
      "[ 0  2  4  6  8 10 12 14 16 18 20 22 24]\n"
     ]
    }
   ],
   "source": [
    "#陣列索引的其他方式\n",
    "import numpy as np\n",
    "\n",
    "x = np.arange(25).reshape(5,5)\n",
    "print(x)\n",
    "print('')\n",
    "\n",
    "print(x[[0,1,2],[0,1,0]])\n",
    "print('')\n",
    "\n",
    "print(x[[2,4]]) #row取2及4\n",
    "print('')\n",
    "\n",
    "print(x[x > 20]) #布林索引\n",
    "print(x[x % 2 == 0])"
   ]
  },
  {
   "cell_type": "code",
   "execution_count": 44,
   "metadata": {},
   "outputs": [
    {
     "name": "stdout",
     "output_type": "stream",
     "text": [
      "[0 1 2 3 4 5 6]\n",
      "[2 3 4 5]\n",
      "True\n",
      "False\n",
      "[20  3  4  5]\n",
      "[ 0  1 20  3  4  5  6]\n"
     ]
    }
   ],
   "source": [
    "#陣列與共用記憶體\n",
    "import numpy as np\n",
    "\n",
    "a = np.arange(7)\n",
    "print(a)\n",
    "\n",
    "b = a[2:6]\n",
    "print(b)\n",
    "\n",
    "c = a[2:6].copy()\n",
    "\n",
    "print(np.may_share_memory(a,b)) #檢查a,b是否在同個記憶體\n",
    "print(np.may_share_memory(a,c))\n",
    "\n",
    "b[0] = 20\n",
    "print(b)\n",
    "print(a) #發現a也改變了"
   ]
  },
  {
   "cell_type": "code",
   "execution_count": 45,
   "metadata": {},
   "outputs": [
    {
     "name": "stdout",
     "output_type": "stream",
     "text": [
      "[[1 2 3 4]\n",
      " [4 5 6 7]]\n",
      "[[2 1 1 1]\n",
      " [2 1 2 2]]\n",
      "\n",
      "[[ 2  2  3  4]\n",
      " [ 8  5 12 14]]\n",
      "\n",
      "[[1]\n",
      " [2]]\n",
      "\n",
      "[[ 1  2  3  4]\n",
      " [ 8 10 12 14]]\n",
      "\n",
      "[[2 3 4 5]\n",
      " [5 6 7 8]]\n"
     ]
    }
   ],
   "source": [
    "#廣播(Broadcast):是numpy對不同形狀(shape)的陣列進行陣列計算的方式\n",
    " #形狀相同時，a*b就是兩陣列對應位置的元素相乘\n",
    " #形狀不同時，將自動觸發廣播機制\n",
    "\n",
    "import numpy as np\n",
    "a = np.array([[1,2,3,4],[4,5,6,7]])\n",
    "b = np.random.randint(1,3,8).reshape(2,4) #隨機產生1-3整數8筆\n",
    "\n",
    "print(a)\n",
    "print(b)\n",
    "print('')\n",
    "\n",
    "print(a*b)\n",
    "print('')\n",
    "\n",
    "c = np.array([1,2]).reshape(2,1) #乘法廣播\n",
    "print(c)\n",
    "print('')\n",
    "\n",
    "print(a*c)\n",
    "print('')\n",
    "\n",
    "d = np.array([1,1,1,1]) #加法廣播\n",
    "print(a+d)"
   ]
  },
  {
   "cell_type": "code",
   "execution_count": 47,
   "metadata": {},
   "outputs": [
    {
     "name": "stdout",
     "output_type": "stream",
     "text": [
      "[[0 1 2]\n",
      " [3 4 5]]\n",
      "\n",
      "[[ 5  6  7]\n",
      " [ 8  9 10]]\n",
      "\n",
      "[[1 1 1]\n",
      " [1 1 1]]\n",
      "[[2 3 4]\n",
      " [5 6 7]]\n"
     ]
    }
   ],
   "source": [
    "#矩陣計算\n",
    "import numpy as np\n",
    "a = np.arange(6).reshape(2,3)\n",
    "print(a)\n",
    "print('')\n",
    "\n",
    "print(a+5) #每個位子+5\n",
    "print('')\n",
    "\n",
    "b = np.ones(6,dtype = int).reshape(2,3)\n",
    "print(b)\n",
    "\n",
    "print(a+2*b) #矩陣加法與純量乘法"
   ]
  },
  {
   "cell_type": "code",
   "execution_count": 48,
   "metadata": {},
   "outputs": [
    {
     "name": "stdout",
     "output_type": "stream",
     "text": [
      "[[0 1 2]\n",
      " [3 4 5]]\n",
      "\n",
      "[[0 1]\n",
      " [2 3]\n",
      " [4 5]]\n",
      "\n",
      "[[10 13]\n",
      " [28 40]]\n",
      "\n",
      "[[10 28]\n",
      " [13 40]]\n"
     ]
    }
   ],
   "source": [
    "import numpy as np\n",
    "a = np.arange(6).reshape(2,3)\n",
    "print(a)\n",
    "print('')\n",
    "\n",
    "b = np.arange(6).reshape(3,2)\n",
    "print(b)\n",
    "print('')\n",
    "\n",
    "c = np.dot(a,b) #矩陣內積\n",
    "print(c)\n",
    "print('')\n",
    "\n",
    "print(c.T) #矩陣轉置"
   ]
  },
  {
   "cell_type": "code",
   "execution_count": 49,
   "metadata": {},
   "outputs": [
    {
     "name": "stdout",
     "output_type": "stream",
     "text": [
      "15\n",
      "\n",
      "1.707825127659933\n",
      "\n",
      "2.5\n",
      "\n",
      "0\n",
      "\n",
      "0\n",
      "\n",
      "5\n",
      "\n",
      "[ 1. -1.  1.]\n",
      "\n",
      "[ 2.71828183  7.3890561  20.08553692]\n",
      "\n",
      "[1. 2. 3. 4.]\n",
      "\n"
     ]
    }
   ],
   "source": [
    "#內建函數\n",
    "import numpy as np\n",
    "a = np.arange(6)\n",
    "\n",
    "print(a.sum())\n",
    "print('')\n",
    "\n",
    "print(a.std())\n",
    "print('')\n",
    "\n",
    "print(a.mean())\n",
    "print('')\n",
    "\n",
    "print(a.min())\n",
    "print('')\n",
    "\n",
    "print(a.argmin())\n",
    "print('')\n",
    "\n",
    "print(a.argmax())\n",
    "print('')\n",
    "\n",
    "print(np.cos([0,np.pi,2*np.pi]))\n",
    "print('')\n",
    "\n",
    "print(np.exp([1,2,3])) #無理數e也稱為歐拉數，約為2.718281,e的x次方\n",
    "print('')\n",
    "\n",
    "print(np.sqrt([1,4,9,16]))\n",
    "print('')"
   ]
  },
  {
   "cell_type": "code",
   "execution_count": 50,
   "metadata": {},
   "outputs": [
    {
     "name": "stdout",
     "output_type": "stream",
     "text": [
      "[[ 0  1  2  3  4]\n",
      " [ 5  6  7  8  9]\n",
      " [10 11 12 13 14]]\n",
      "\n",
      "[15 18 21 24 27]\n",
      "\n",
      "[10 35 60]\n",
      "\n",
      "[10 11 12 13 14]\n",
      "\n",
      "[ 4  9 14]\n"
     ]
    }
   ],
   "source": [
    "import numpy as np\n",
    "a = np.arange(15).reshape(3,5)\n",
    "print(a)\n",
    "print('')\n",
    "\n",
    "print(a.sum(axis=0)) #垂直方向加總\n",
    "print('')\n",
    "\n",
    "print(a.sum(axis=1)) #水平方向加總\n",
    "print('')\n",
    "\n",
    "print(a.max(axis=0))\n",
    "print('')\n",
    "\n",
    "print(a.max(axis=1))"
   ]
  },
  {
   "cell_type": "code",
   "execution_count": 51,
   "metadata": {},
   "outputs": [
    {
     "name": "stdout",
     "output_type": "stream",
     "text": [
      "[[14 11 14 15]\n",
      " [14 16 12 10]\n",
      " [ 1  2 11 18]\n",
      " [10 16  3  5]]\n",
      "\n",
      "[[ 1  2  3  5]\n",
      " [10 11 11 10]\n",
      " [14 16 12 15]\n",
      " [14 16 14 18]]\n",
      "\n",
      "[[ 1  2  3  5]\n",
      " [10 10 11 11]\n",
      " [12 14 15 16]\n",
      " [14 14 16 18]]\n",
      "\n",
      "[[ 1  2  3  5]\n",
      " [10 10 11 11]\n",
      " [12 14 15 16]\n",
      " [14 14 16 18]]\n"
     ]
    }
   ],
   "source": [
    "#存檔\n",
    "import numpy as np\n",
    "a = np.random.randint(1,20,16).reshape(4,4) #1-2取16筆整數\n",
    "print(a)\n",
    "print('')\n",
    "\n",
    "b = np.sort(a,axis=0) #垂直\n",
    "print(b)\n",
    "print('')\n",
    "\n",
    "c = np.sort(b,axis=1) #水平排序\n",
    "print(c)\n",
    "print('')\n",
    "\n",
    "np.save('c',c) #前面'c'是檔名\n",
    "np.savetxt('c',c) #後面的是矩陣名稱\n",
    "\n",
    "d = np.load('c.npy')\n",
    "print(d)"
   ]
  }
 ],
 "metadata": {
  "kernelspec": {
   "display_name": "Python 3",
   "language": "python",
   "name": "python3"
  },
  "language_info": {
   "codemirror_mode": {
    "name": "ipython",
    "version": 3
   },
   "file_extension": ".py",
   "mimetype": "text/x-python",
   "name": "python",
   "nbconvert_exporter": "python",
   "pygments_lexer": "ipython3",
   "version": "3.7.9"
  }
 },
 "nbformat": 4,
 "nbformat_minor": 4
}
