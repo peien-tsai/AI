{
 "cells": [
  {
   "cell_type": "code",
   "execution_count": 1,
   "metadata": {},
   "outputs": [],
   "source": [
    "import numpy as np"
   ]
  },
  {
   "cell_type": "code",
   "execution_count": 2,
   "metadata": {},
   "outputs": [],
   "source": [
    "weight = np.array([0.15,0.2,0.25,0.4])"
   ]
  },
  {
   "cell_type": "code",
   "execution_count": 3,
   "metadata": {},
   "outputs": [
    {
     "data": {
      "text/plain": [
       "numpy.ndarray"
      ]
     },
     "execution_count": 3,
     "metadata": {},
     "output_type": "execute_result"
    }
   ],
   "source": [
    "type(weight)"
   ]
  },
  {
   "cell_type": "code",
   "execution_count": 4,
   "metadata": {},
   "outputs": [
    {
     "data": {
      "text/plain": [
       "(4,)"
      ]
     },
     "execution_count": 4,
     "metadata": {},
     "output_type": "execute_result"
    }
   ],
   "source": [
    "weight.shape #可看出是一維陣列，由四個元素組成"
   ]
  },
  {
   "cell_type": "markdown",
   "metadata": {},
   "source": [
    "# 四檔股票漲跌幅"
   ]
  },
  {
   "cell_type": "code",
   "execution_count": 5,
   "metadata": {},
   "outputs": [],
   "source": [
    "stock_return = np.array([[0.003731,0.021066,-0.004854,0.006098,-0.00606],[-0.001838,0.001842,-0.016544,-0.003738,0.003752],[-0.003087,-0.000344,-0.033391,0.007123,0.004597],[-0.024112,0.011704,-0.029563,-0.01457,0.016129]])"
   ]
  },
  {
   "cell_type": "code",
   "execution_count": 7,
   "metadata": {},
   "outputs": [
    {
     "data": {
      "text/plain": [
       "array([[ 0.003731,  0.021066, -0.004854,  0.006098, -0.00606 ],\n",
       "       [-0.001838,  0.001842, -0.016544, -0.003738,  0.003752],\n",
       "       [-0.003087, -0.000344, -0.033391,  0.007123,  0.004597],\n",
       "       [-0.024112,  0.011704, -0.029563, -0.01457 ,  0.016129]])"
      ]
     },
     "execution_count": 7,
     "metadata": {},
     "output_type": "execute_result"
    }
   ],
   "source": [
    "stock_return"
   ]
  },
  {
   "cell_type": "code",
   "execution_count": 8,
   "metadata": {},
   "outputs": [
    {
     "data": {
      "text/plain": [
       "(4, 5)"
      ]
     },
     "execution_count": 8,
     "metadata": {},
     "output_type": "execute_result"
    }
   ],
   "source": [
    "stock_return.shape #4*5的二維矩陣"
   ]
  },
  {
   "cell_type": "markdown",
   "metadata": {},
   "source": [
    "●將串列轉為陣列"
   ]
  },
  {
   "cell_type": "code",
   "execution_count": 11,
   "metadata": {},
   "outputs": [],
   "source": [
    "weight_list = [0.15,0.2,0.25,0.4]"
   ]
  },
  {
   "cell_type": "code",
   "execution_count": 13,
   "metadata": {},
   "outputs": [
    {
     "data": {
      "text/plain": [
       "array([0.15, 0.2 , 0.25, 0.4 ])"
      ]
     },
     "execution_count": 13,
     "metadata": {},
     "output_type": "execute_result"
    }
   ],
   "source": [
    "weight_array = np.array(weight_list)\n",
    "weight_array"
   ]
  },
  {
   "cell_type": "code",
   "execution_count": 14,
   "metadata": {},
   "outputs": [],
   "source": [
    "return_list = [ 0.003731,  0.021066, -0.004854,  0.006098, -0.00606 ,\n",
    "       -0.001838,  0.001842, -0.016544, -0.003738,  0.003752,\n",
    "       -0.003087, -0.000344, -0.033391,  0.007123,  0.004597,\n",
    "       -0.024112,  0.011704, -0.029563, -0.01457 ,  0.016129]"
   ]
  },
  {
   "cell_type": "code",
   "execution_count": 37,
   "metadata": {},
   "outputs": [
    {
     "data": {
      "text/plain": [
       "array([ 0.003731,  0.021066, -0.004854,  0.006098, -0.00606 , -0.001838,\n",
       "        0.001842, -0.016544, -0.003738,  0.003752, -0.003087, -0.000344,\n",
       "       -0.033391,  0.007123,  0.004597, -0.024112,  0.011704, -0.029563,\n",
       "       -0.01457 ,  0.016129])"
      ]
     },
     "execution_count": 37,
     "metadata": {},
     "output_type": "execute_result"
    }
   ],
   "source": [
    "return_array = np.array(return_list)\n",
    "return_array"
   ]
  },
  {
   "cell_type": "code",
   "execution_count": 40,
   "metadata": {},
   "outputs": [
    {
     "data": {
      "text/plain": [
       "array([[ 0.003731,  0.021066, -0.004854,  0.006098, -0.00606 ],\n",
       "       [-0.001838,  0.001842, -0.016544, -0.003738,  0.003752],\n",
       "       [-0.003087, -0.000344, -0.033391,  0.007123,  0.004597],\n",
       "       [-0.024112,  0.011704, -0.029563, -0.01457 ,  0.016129]])"
      ]
     },
     "execution_count": 40,
     "metadata": {},
     "output_type": "execute_result"
    }
   ],
   "source": [
    "return_array = return_array.reshape(4,5)\n",
    "return_array"
   ]
  },
  {
   "cell_type": "markdown",
   "metadata": {},
   "source": [
    "●ravel函數，將多維陣列降維至一維陣列"
   ]
  },
  {
   "cell_type": "code",
   "execution_count": 21,
   "metadata": {},
   "outputs": [
    {
     "data": {
      "text/plain": [
       "array([ 0.003731,  0.021066, -0.004854,  0.006098, -0.00606 , -0.001838,\n",
       "        0.001842, -0.016544, -0.003738,  0.003752, -0.003087, -0.000344,\n",
       "       -0.033391,  0.007123,  0.004597, -0.024112,  0.011704, -0.029563,\n",
       "       -0.01457 ,  0.016129])"
      ]
     },
     "execution_count": 21,
     "metadata": {},
     "output_type": "execute_result"
    }
   ],
   "source": [
    "return_array1 = return_array.ravel()\n",
    "return_array1"
   ]
  },
  {
   "cell_type": "markdown",
   "metadata": {},
   "source": [
    "●ndim檢視陣列的維度"
   ]
  },
  {
   "cell_type": "code",
   "execution_count": 24,
   "metadata": {},
   "outputs": [
    {
     "name": "stdout",
     "output_type": "stream",
     "text": [
      "1\n",
      "2\n"
     ]
    }
   ],
   "source": [
    "print(weight_array.ndim)\n",
    "print(return_array.ndim)"
   ]
  },
  {
   "cell_type": "markdown",
   "metadata": {},
   "source": [
    "●size檢視陣列的元素數量"
   ]
  },
  {
   "cell_type": "code",
   "execution_count": 26,
   "metadata": {},
   "outputs": [
    {
     "name": "stdout",
     "output_type": "stream",
     "text": [
      "4\n",
      "20\n"
     ]
    }
   ],
   "source": [
    "print(weight_array.size)\n",
    "print(return_array.size)"
   ]
  },
  {
   "cell_type": "code",
   "execution_count": null,
   "metadata": {},
   "outputs": [],
   "source": [
    "●dtype檢視陣列的元素型態"
   ]
  },
  {
   "cell_type": "code",
   "execution_count": 27,
   "metadata": {},
   "outputs": [
    {
     "name": "stdout",
     "output_type": "stream",
     "text": [
      "float64\n",
      "float64\n"
     ]
    }
   ],
   "source": [
    "print(weight_array.dtype)\n",
    "print(return_array.dtype)"
   ]
  },
  {
   "cell_type": "markdown",
   "metadata": {},
   "source": [
    "# 陣列的產生\n",
    "range產生串列\n",
    "arange產生陣列"
   ]
  },
  {
   "cell_type": "code",
   "execution_count": 29,
   "metadata": {},
   "outputs": [
    {
     "data": {
      "text/plain": [
       "array([0, 1, 2, 3, 4, 5, 6, 7, 8, 9])"
      ]
     },
     "execution_count": 29,
     "metadata": {},
     "output_type": "execute_result"
    }
   ],
   "source": [
    "a = np.arange(10)\n",
    "a"
   ]
  },
  {
   "cell_type": "code",
   "execution_count": 30,
   "metadata": {},
   "outputs": [
    {
     "data": {
      "text/plain": [
       "array([ 1,  4,  7, 10, 13])"
      ]
     },
     "execution_count": 30,
     "metadata": {},
     "output_type": "execute_result"
    }
   ],
   "source": [
    "b = np.arange(1,15,3) #1-15之間，間隔3\n",
    "b"
   ]
  },
  {
   "cell_type": "markdown",
   "metadata": {},
   "source": [
    "●產生等差序列"
   ]
  },
  {
   "cell_type": "code",
   "execution_count": 31,
   "metadata": {},
   "outputs": [
    {
     "data": {
      "text/plain": [
       "array([  0.,   2.,   4.,   6.,   8.,  10.,  12.,  14.,  16.,  18.,  20.,\n",
       "        22.,  24.,  26.,  28.,  30.,  32.,  34.,  36.,  38.,  40.,  42.,\n",
       "        44.,  46.,  48.,  50.,  52.,  54.,  56.,  58.,  60.,  62.,  64.,\n",
       "        66.,  68.,  70.,  72.,  74.,  76.,  78.,  80.,  82.,  84.,  86.,\n",
       "        88.,  90.,  92.,  94.,  96.,  98., 100.])"
      ]
     },
     "execution_count": 31,
     "metadata": {},
     "output_type": "execute_result"
    }
   ],
   "source": [
    "np.linspace(0,100,51) #0-100且個數為51的等差序列"
   ]
  },
  {
   "cell_type": "markdown",
   "metadata": {},
   "source": [
    "●零陣列ones   ●元素一的陣列ones"
   ]
  },
  {
   "cell_type": "code",
   "execution_count": 32,
   "metadata": {},
   "outputs": [
    {
     "data": {
      "text/plain": [
       "array([0., 0., 0., 0., 0.])"
      ]
     },
     "execution_count": 32,
     "metadata": {},
     "output_type": "execute_result"
    }
   ],
   "source": [
    "#一維\n",
    "zero_array1 = np.zeros(5)\n",
    "zero_array1"
   ]
  },
  {
   "cell_type": "code",
   "execution_count": 33,
   "metadata": {},
   "outputs": [
    {
     "data": {
      "text/plain": [
       "array([[0., 0., 0., 0.],\n",
       "       [0., 0., 0., 0.],\n",
       "       [0., 0., 0., 0.]])"
      ]
     },
     "execution_count": 33,
     "metadata": {},
     "output_type": "execute_result"
    }
   ],
   "source": [
    "#二維3*4\n",
    "zero_array2 = np.zeros((3,4))\n",
    "zero_array2"
   ]
  },
  {
   "cell_type": "code",
   "execution_count": 34,
   "metadata": {},
   "outputs": [
    {
     "name": "stdout",
     "output_type": "stream",
     "text": [
      "[0. 0. 0. 0.]\n",
      "[[0. 0. 0. 0. 0.]\n",
      " [0. 0. 0. 0. 0.]\n",
      " [0. 0. 0. 0. 0.]\n",
      " [0. 0. 0. 0. 0.]]\n"
     ]
    }
   ],
   "source": [
    "#產生與原有陣列相同的維度的零陣列\n",
    "zero_weight = np.zeros_like(weight_array)\n",
    "print(zero_weight)\n",
    "zero_return = np.zeros_like(return_array)\n",
    "print(zero_return)"
   ]
  },
  {
   "cell_type": "markdown",
   "metadata": {},
   "source": [
    "●建立單位矩陣(對角線上是1其餘為0的陣列)-eye"
   ]
  },
  {
   "cell_type": "code",
   "execution_count": 80,
   "metadata": {},
   "outputs": [
    {
     "data": {
      "text/plain": [
       "array([[1., 0., 0., 0., 0.],\n",
       "       [0., 1., 0., 0., 0.],\n",
       "       [0., 0., 1., 0., 0.],\n",
       "       [0., 0., 0., 1., 0.],\n",
       "       [0., 0., 0., 0., 1.]])"
      ]
     },
     "execution_count": 80,
     "metadata": {},
     "output_type": "execute_result"
    }
   ],
   "source": [
    "I = np.eye(5)\n",
    "I"
   ]
  },
  {
   "cell_type": "markdown",
   "metadata": {},
   "source": [
    "# 陣列的索引、切片與排序"
   ]
  },
  {
   "cell_type": "code",
   "execution_count": 43,
   "metadata": {},
   "outputs": [
    {
     "name": "stdout",
     "output_type": "stream",
     "text": [
      "-0.016544\n",
      "[[-0.000344]\n",
      " [ 0.011704]]\n",
      "[-0.001838  0.001842 -0.016544 -0.003738  0.003752]\n"
     ]
    }
   ],
   "source": [
    "#索引\n",
    "print(return_array[1,2])\n",
    "#切片\n",
    "print(return_array[2:,1:2])\n",
    "# return_array\n",
    "print(return_array[1])"
   ]
  },
  {
   "cell_type": "code",
   "execution_count": 45,
   "metadata": {},
   "outputs": [
    {
     "name": "stdout",
     "output_type": "stream",
     "text": [
      "[[-0.024112 -0.000344 -0.033391 -0.01457  -0.00606 ]\n",
      " [-0.003087  0.001842 -0.029563 -0.003738  0.003752]\n",
      " [-0.001838  0.011704 -0.016544  0.006098  0.004597]\n",
      " [ 0.003731  0.021066 -0.004854  0.007123  0.016129]]\n",
      "\n",
      "[[-0.00606  -0.004854  0.003731  0.006098  0.021066]\n",
      " [-0.016544 -0.003738 -0.001838  0.001842  0.003752]\n",
      " [-0.033391 -0.003087 -0.000344  0.004597  0.007123]\n",
      " [-0.029563 -0.024112 -0.01457   0.011704  0.016129]]\n",
      "\n",
      "[[-0.00606  -0.004854  0.003731  0.006098  0.021066]\n",
      " [-0.016544 -0.003738 -0.001838  0.001842  0.003752]\n",
      " [-0.033391 -0.003087 -0.000344  0.004597  0.007123]\n",
      " [-0.029563 -0.024112 -0.01457   0.011704  0.016129]]\n"
     ]
    }
   ],
   "source": [
    "#排序 axis=1為預設，依照一個[]排序，axis=0 ↓ 行大小排序\n",
    "print(np.sort(return_array,axis=0))\n",
    "print('')\n",
    "print(np.sort(return_array,axis=1))\n",
    "print('')\n",
    "print(np.sort(return_array))"
   ]
  },
  {
   "cell_type": "markdown",
   "metadata": {},
   "source": [
    "# 陣列的相關運算"
   ]
  },
  {
   "cell_type": "markdown",
   "metadata": {},
   "source": [
    "●求和"
   ]
  },
  {
   "cell_type": "code",
   "execution_count": 46,
   "metadata": {},
   "outputs": [
    {
     "data": {
      "text/plain": [
       "array([-0.025306,  0.034268, -0.084352, -0.005087,  0.018418])"
      ]
     },
     "execution_count": 46,
     "metadata": {},
     "output_type": "execute_result"
    }
   ],
   "source": [
    "return_array.sum(axis=0) #按日算股票的報酬"
   ]
  },
  {
   "cell_type": "code",
   "execution_count": 47,
   "metadata": {},
   "outputs": [
    {
     "data": {
      "text/plain": [
       "array([ 0.019981, -0.016526, -0.025102, -0.040412])"
      ]
     },
     "execution_count": 47,
     "metadata": {},
     "output_type": "execute_result"
    }
   ],
   "source": [
    "return_array.sum(axis=1) #分別計算五檔五天的報酬"
   ]
  },
  {
   "cell_type": "code",
   "execution_count": 48,
   "metadata": {},
   "outputs": [
    {
     "data": {
      "text/plain": [
       "-0.062059"
      ]
     },
     "execution_count": 48,
     "metadata": {},
     "output_type": "execute_result"
    }
   ],
   "source": [
    "return_array.sum() #全部元素的總和"
   ]
  },
  {
   "cell_type": "markdown",
   "metadata": {},
   "source": [
    "●求乘積prod"
   ]
  },
  {
   "cell_type": "code",
   "execution_count": 49,
   "metadata": {},
   "outputs": [
    {
     "data": {
      "text/plain": [
       "array([-5.10435205e-10, -1.56230010e-10,  7.92717092e-08,  2.36564304e-09,\n",
       "       -1.68584406e-09])"
      ]
     },
     "execution_count": 49,
     "metadata": {},
     "output_type": "execute_result"
    }
   ],
   "source": [
    "return_array.prod(axis=0)"
   ]
  },
  {
   "cell_type": "code",
   "execution_count": 50,
   "metadata": {},
   "outputs": [
    {
     "data": {
      "text/plain": [
       "array([ 1.40983129e-11, -7.85557141e-13, -1.16107947e-12, -1.96057312e-09])"
      ]
     },
     "execution_count": 50,
     "metadata": {},
     "output_type": "execute_result"
    }
   ],
   "source": [
    "return_array.prod(axis=1)"
   ]
  },
  {
   "cell_type": "code",
   "execution_count": 51,
   "metadata": {},
   "outputs": [
    {
     "data": {
      "text/plain": [
       "-2.521099098076826e-44"
      ]
     },
     "execution_count": 51,
     "metadata": {},
     "output_type": "execute_result"
    }
   ],
   "source": [
    "return_array.prod()"
   ]
  },
  {
   "cell_type": "markdown",
   "metadata": {},
   "source": [
    "●求最值(max/min)"
   ]
  },
  {
   "cell_type": "code",
   "execution_count": 52,
   "metadata": {},
   "outputs": [
    {
     "data": {
      "text/plain": [
       "array([ 0.003731,  0.021066, -0.004854,  0.007123,  0.016129])"
      ]
     },
     "execution_count": 52,
     "metadata": {},
     "output_type": "execute_result"
    }
   ],
   "source": [
    "return_array.max(axis=0) #按行"
   ]
  },
  {
   "cell_type": "code",
   "execution_count": 53,
   "metadata": {},
   "outputs": [
    {
     "data": {
      "text/plain": [
       "array([0.021066, 0.003752, 0.007123, 0.016129])"
      ]
     },
     "execution_count": 53,
     "metadata": {},
     "output_type": "execute_result"
    }
   ],
   "source": [
    "return_array.max(axis=1) #按列"
   ]
  },
  {
   "cell_type": "code",
   "execution_count": 54,
   "metadata": {},
   "outputs": [
    {
     "data": {
      "text/plain": [
       "0.021066"
      ]
     },
     "execution_count": 54,
     "metadata": {},
     "output_type": "execute_result"
    }
   ],
   "source": [
    "return_array.max()#全部元素最大"
   ]
  },
  {
   "cell_type": "code",
   "execution_count": 55,
   "metadata": {},
   "outputs": [
    {
     "data": {
      "text/plain": [
       "array([-0.024112, -0.000344, -0.033391, -0.01457 , -0.00606 ])"
      ]
     },
     "execution_count": 55,
     "metadata": {},
     "output_type": "execute_result"
    }
   ],
   "source": [
    "return_array.min(axis=0)"
   ]
  },
  {
   "cell_type": "code",
   "execution_count": 56,
   "metadata": {},
   "outputs": [
    {
     "data": {
      "text/plain": [
       "array([-0.00606 , -0.016544, -0.033391, -0.029563])"
      ]
     },
     "execution_count": 56,
     "metadata": {},
     "output_type": "execute_result"
    }
   ],
   "source": [
    "return_array.min(axis=1)"
   ]
  },
  {
   "cell_type": "code",
   "execution_count": 57,
   "metadata": {},
   "outputs": [
    {
     "data": {
      "text/plain": [
       "-0.033391"
      ]
     },
     "execution_count": 57,
     "metadata": {},
     "output_type": "execute_result"
    }
   ],
   "source": [
    "return_array.min()"
   ]
  },
  {
   "cell_type": "markdown",
   "metadata": {},
   "source": [
    "●求平均值mean ●求變異數var標準差std"
   ]
  },
  {
   "cell_type": "markdown",
   "metadata": {},
   "source": [
    "●開根號sqrt ●平方square ●exp以e為底的指數次方"
   ]
  },
  {
   "cell_type": "code",
   "execution_count": 58,
   "metadata": {},
   "outputs": [
    {
     "name": "stderr",
     "output_type": "stream",
     "text": [
      "d:\\anaconda3\\envs\\anaconda_project\\lib\\site-packages\\ipykernel_launcher.py:1: RuntimeWarning: invalid value encountered in sqrt\n",
      "  \"\"\"Entry point for launching an IPython kernel.\n"
     ]
    },
    {
     "data": {
      "text/plain": [
       "array([[0.06108191, 0.14514131,        nan, 0.07808969,        nan],\n",
       "       [       nan, 0.04291853,        nan,        nan, 0.06125357],\n",
       "       [       nan,        nan,        nan, 0.08439787, 0.06780118],\n",
       "       [       nan, 0.10818503,        nan,        nan, 0.127     ]])"
      ]
     },
     "execution_count": 58,
     "metadata": {},
     "output_type": "execute_result"
    }
   ],
   "source": [
    "np.sqrt(return_array) #負數無法開根號，故顯示為nan"
   ]
  },
  {
   "cell_type": "code",
   "execution_count": 59,
   "metadata": {},
   "outputs": [
    {
     "data": {
      "text/plain": [
       "array([[1.39203610e-05, 4.43776356e-04, 2.35613160e-05, 3.71856040e-05,\n",
       "        3.67236000e-05],\n",
       "       [3.37824400e-06, 3.39296400e-06, 2.73703936e-04, 1.39726440e-05,\n",
       "        1.40775040e-05],\n",
       "       [9.52956900e-06, 1.18336000e-07, 1.11495888e-03, 5.07371290e-05,\n",
       "        2.11324090e-05],\n",
       "       [5.81388544e-04, 1.36983616e-04, 8.73970969e-04, 2.12284900e-04,\n",
       "        2.60144641e-04]])"
      ]
     },
     "execution_count": 59,
     "metadata": {},
     "output_type": "execute_result"
    }
   ],
   "source": [
    "np.square(return_array)"
   ]
  },
  {
   "cell_type": "code",
   "execution_count": 60,
   "metadata": {
    "scrolled": true
   },
   "outputs": [
    {
     "data": {
      "text/plain": [
       "array([[1.00373797, 1.02128945, 0.99515776, 1.00611663, 0.99395832],\n",
       "       [0.99816369, 1.0018437 , 0.9835921 , 0.99626898, 1.00375905],\n",
       "       [0.99691776, 0.99965606, 0.96716033, 1.00714843, 1.00460758],\n",
       "       [0.97617637, 1.01177276, 0.97086971, 0.98553563, 1.01625977]])"
      ]
     },
     "execution_count": 60,
     "metadata": {},
     "output_type": "execute_result"
    }
   ],
   "source": [
    "np.exp(return_array)"
   ]
  },
  {
   "cell_type": "markdown",
   "metadata": {},
   "source": [
    "●對數運算log log10  log2"
   ]
  },
  {
   "cell_type": "markdown",
   "metadata": {},
   "source": [
    "●產生兩個陣列對應元素的最大值作為新的陣列"
   ]
  },
  {
   "cell_type": "code",
   "execution_count": 63,
   "metadata": {},
   "outputs": [
    {
     "data": {
      "text/plain": [
       "array([[0.003731, 0.021066, 0.      , 0.006098, 0.      ],\n",
       "       [0.      , 0.001842, 0.      , 0.      , 0.003752],\n",
       "       [0.      , 0.      , 0.      , 0.007123, 0.004597],\n",
       "       [0.      , 0.011704, 0.      , 0.      , 0.016129]])"
      ]
     },
     "execution_count": 63,
     "metadata": {},
     "output_type": "execute_result"
    }
   ],
   "source": [
    "return_max = np.maximum(return_array,zero_return)\n",
    "return_max"
   ]
  },
  {
   "cell_type": "code",
   "execution_count": 64,
   "metadata": {},
   "outputs": [
    {
     "data": {
      "text/plain": [
       "array([[ 0.      ,  0.      , -0.004854,  0.      , -0.00606 ],\n",
       "       [-0.001838,  0.      , -0.016544, -0.003738,  0.      ],\n",
       "       [-0.003087, -0.000344, -0.033391,  0.      ,  0.      ],\n",
       "       [-0.024112,  0.      , -0.029563, -0.01457 ,  0.      ]])"
      ]
     },
     "execution_count": 64,
     "metadata": {},
     "output_type": "execute_result"
    }
   ],
   "source": [
    "return_min = np.minimum(return_array,zero_return)\n",
    "return_min"
   ]
  },
  {
   "cell_type": "markdown",
   "metadata": {},
   "source": [
    "# 矩陣的運算"
   ]
  },
  {
   "cell_type": "markdown",
   "metadata": {},
   "source": [
    "●相關係數corrcoef"
   ]
  },
  {
   "cell_type": "code",
   "execution_count": 65,
   "metadata": {},
   "outputs": [
    {
     "data": {
      "text/plain": [
       "array([[1.        , 0.38215651, 0.36338676, 0.30254781],\n",
       "       [0.38215651, 1.        , 0.89216018, 0.80740528],\n",
       "       [0.36338676, 0.89216018, 1.        , 0.60483848],\n",
       "       [0.30254781, 0.80740528, 0.60483848, 1.        ]])"
      ]
     },
     "execution_count": 65,
     "metadata": {},
     "output_type": "execute_result"
    }
   ],
   "source": [
    "corrcoef_return = np.corrcoef(return_array)\n",
    "corrcoef_return"
   ]
  },
  {
   "cell_type": "code",
   "execution_count": 66,
   "metadata": {},
   "outputs": [
    {
     "data": {
      "text/plain": [
       "array([1., 1., 1., 1.])"
      ]
     },
     "execution_count": 66,
     "metadata": {},
     "output_type": "execute_result"
    }
   ],
   "source": [
    "#矩陣的對角線\n",
    "np.diag(corrcoef_return)"
   ]
  },
  {
   "cell_type": "code",
   "execution_count": 67,
   "metadata": {},
   "outputs": [
    {
     "data": {
      "text/plain": [
       "array([[1.        , 0.38215651, 0.36338676, 0.30254781],\n",
       "       [0.        , 1.        , 0.89216018, 0.80740528],\n",
       "       [0.        , 0.        , 1.        , 0.60483848],\n",
       "       [0.        , 0.        , 0.        , 1.        ]])"
      ]
     },
     "execution_count": 67,
     "metadata": {},
     "output_type": "execute_result"
    }
   ],
   "source": [
    "#矩陣的上三角\n",
    "np.triu(corrcoef_return)"
   ]
  },
  {
   "cell_type": "code",
   "execution_count": 68,
   "metadata": {},
   "outputs": [
    {
     "data": {
      "text/plain": [
       "array([[1.        , 0.        , 0.        , 0.        ],\n",
       "       [0.38215651, 1.        , 0.        , 0.        ],\n",
       "       [0.36338676, 0.89216018, 1.        , 0.        ],\n",
       "       [0.30254781, 0.80740528, 0.60483848, 1.        ]])"
      ]
     },
     "execution_count": 68,
     "metadata": {},
     "output_type": "execute_result"
    }
   ],
   "source": [
    "#矩陣的下三角\n",
    "np.tril(corrcoef_return)"
   ]
  },
  {
   "cell_type": "code",
   "execution_count": 71,
   "metadata": {},
   "outputs": [
    {
     "name": "stdout",
     "output_type": "stream",
     "text": [
      "[[ 0.003731  0.021066 -0.004854  0.006098 -0.00606 ]\n",
      " [-0.001838  0.001842 -0.016544 -0.003738  0.003752]\n",
      " [-0.003087 -0.000344 -0.033391  0.007123  0.004597]\n",
      " [-0.024112  0.011704 -0.029563 -0.01457   0.016129]]\n",
      "[[ 0.003731 -0.001838 -0.003087 -0.024112]\n",
      " [ 0.021066  0.001842 -0.000344  0.011704]\n",
      " [-0.004854 -0.016544 -0.033391 -0.029563]\n",
      " [ 0.006098 -0.003738  0.007123 -0.01457 ]\n",
      " [-0.00606   0.003752  0.004597  0.016129]]\n"
     ]
    }
   ],
   "source": [
    "#矩陣轉置\n",
    "print(return_array)\n",
    "print(np.transpose(return_array))"
   ]
  },
  {
   "cell_type": "code",
   "execution_count": 72,
   "metadata": {},
   "outputs": [
    {
     "data": {
      "text/plain": [
       "array([0.15, 0.2 , 0.25, 0.4 ])"
      ]
     },
     "execution_count": 72,
     "metadata": {},
     "output_type": "execute_result"
    }
   ],
   "source": [
    "weight_array"
   ]
  },
  {
   "cell_type": "code",
   "execution_count": 73,
   "metadata": {},
   "outputs": [
    {
     "data": {
      "text/plain": [
       "array([[ 0.003731,  0.021066, -0.004854,  0.006098, -0.00606 ],\n",
       "       [-0.001838,  0.001842, -0.016544, -0.003738,  0.003752],\n",
       "       [-0.003087, -0.000344, -0.033391,  0.007123,  0.004597],\n",
       "       [-0.024112,  0.011704, -0.029563, -0.01457 ,  0.016129]])"
      ]
     },
     "execution_count": 73,
     "metadata": {},
     "output_type": "execute_result"
    }
   ],
   "source": [
    "return_array"
   ]
  },
  {
   "cell_type": "code",
   "execution_count": 75,
   "metadata": {},
   "outputs": [
    {
     "data": {
      "text/plain": [
       "array([-0.0102245 ,  0.0081239 , -0.02420985, -0.00388015,  0.00744225])"
      ]
     },
     "execution_count": 75,
     "metadata": {},
     "output_type": "execute_result"
    }
   ],
   "source": [
    "#內積\n",
    "average_return = np.dot(weight_array,return_array)\n",
    "average_return"
   ]
  },
  {
   "cell_type": "markdown",
   "metadata": {},
   "source": [
    "●套件linalg用於線性代數運算"
   ]
  },
  {
   "cell_type": "code",
   "execution_count": 76,
   "metadata": {},
   "outputs": [],
   "source": [
    "import numpy.linalg as la"
   ]
  },
  {
   "cell_type": "code",
   "execution_count": 77,
   "metadata": {},
   "outputs": [
    {
     "data": {
      "text/plain": [
       "0.04911303905058602"
      ]
     },
     "execution_count": 77,
     "metadata": {},
     "output_type": "execute_result"
    }
   ],
   "source": [
    "la.det(corrcoef_return)"
   ]
  },
  {
   "cell_type": "markdown",
   "metadata": {},
   "source": [
    "●random有許多分布可參考官網https://docs.scipy.org/doc/numpy-1.15.0/reference/routines.random.html"
   ]
  },
  {
   "cell_type": "code",
   "execution_count": 82,
   "metadata": {},
   "outputs": [],
   "source": [
    "import numpy.random as npr"
   ]
  },
  {
   "cell_type": "code",
   "execution_count": 84,
   "metadata": {},
   "outputs": [
    {
     "name": "stdout",
     "output_type": "stream",
     "text": [
      "從正態分布中抽取的平均值 1.0021906357279835\n",
      "從正態分布中抽取的標準差 1.9977082591773285\n"
     ]
    }
   ],
   "source": [
    "#從正態(normal distribution)分配 取平均數1標準差2次數一萬次\n",
    "x_norm = npr.normal(loc=1.0,scale=2.0,size=10000)\n",
    "print('從正態分布中抽取的平均值',x_norm.mean())\n",
    "print('從正態分布中抽取的標準差',x_norm.std())"
   ]
  },
  {
   "cell_type": "code",
   "execution_count": null,
   "metadata": {},
   "outputs": [],
   "source": []
  }
 ],
 "metadata": {
  "kernelspec": {
   "display_name": "Python 3",
   "language": "python",
   "name": "python3"
  },
  "language_info": {
   "codemirror_mode": {
    "name": "ipython",
    "version": 3
   },
   "file_extension": ".py",
   "mimetype": "text/x-python",
   "name": "python",
   "nbconvert_exporter": "python",
   "pygments_lexer": "ipython3",
   "version": "3.7.9"
  }
 },
 "nbformat": 4,
 "nbformat_minor": 4
}
